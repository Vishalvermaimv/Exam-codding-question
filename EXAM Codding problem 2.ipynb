{
 "cells": [
  {
   "cell_type": "code",
   "execution_count": 1,
   "metadata": {},
   "outputs": [
    {
     "name": "stdout",
     "output_type": "stream",
     "text": [
      "1 to 2\n"
     ]
    },
    {
     "data": {
      "text/plain": [
       "2"
      ]
     },
     "execution_count": 1,
     "metadata": {},
     "output_type": "execute_result"
    }
   ],
   "source": [
    "def findSubArray(arr, n):\n",
    " \n",
    "    sum = 0\n",
    "    maxsize = -1\n",
    " \n",
    "    # Pick a starting point as i\n",
    " \n",
    "    for i in range(0, n-1):\n",
    "     \n",
    "        sum = -1 if(arr[i] == 0) else 1\n",
    " \n",
    "        # Consider all subarrays starting from i\n",
    " \n",
    "        for j in range(i + 1, n):\n",
    "         \n",
    "            sum = sum + (-1) if (arr[j] == 0) else sum + 1\n",
    " \n",
    "            # If this is a 0 sum subarray, then\n",
    "            # compare it with maximum size subarray\n",
    "            # calculated so far\n",
    " \n",
    "            if (sum == 0 and maxsize < j-i + 1):\n",
    "                 \n",
    "                maxsize = j - i + 1\n",
    "                startindex = i\n",
    "             \n",
    "         \n",
    "     \n",
    "    if (maxsize == -1):\n",
    "        print(\"No such subarray\");\n",
    "    else:\n",
    "        print(startindex, \"to\", startindex + maxsize-1);\n",
    " \n",
    "    return maxsize\n",
    " \n",
    "# Driver program to test above functions\n",
    "arr = [1,1,0,1]\n",
    "size = len(arr)\n",
    "findSubArray(arr, size)\n",
    " \n",
    "# This code is contributed by Smitha Dinesh Semwal"
   ]
  },
  {
   "cell_type": "code",
   "execution_count": 6,
   "metadata": {},
   "outputs": [
    {
     "name": "stdout",
     "output_type": "stream",
     "text": [
      "1\n"
     ]
    }
   ],
   "source": [
    "def largestSubarrayZeroSum(X):\n",
    "    maxLength = 0\n",
    "    for i in range (len(X)):\n",
    "        for j in range(i ,len(X)):\n",
    "            subArraySum = 0\n",
    "            for k in range(i, j + 1):\n",
    "                subArraySum = subArraySum + X[k]\n",
    "\n",
    "            if subArraySum ==0:\n",
    "                maxLength = max(maxLength, j -i + 1)\n",
    "\n",
    "    return maxLength\n",
    "\n",
    "X=[1,1,0,1]\n",
    "y=largestSubarrayZeroSum(X)\n",
    "print(y)"
   ]
  },
  {
   "cell_type": "code",
   "execution_count": 7,
   "metadata": {},
   "outputs": [
    {
     "name": "stdout",
     "output_type": "stream",
     "text": [
      "1 to 2\n"
     ]
    },
    {
     "data": {
      "text/plain": [
       "2"
      ]
     },
     "execution_count": 7,
     "metadata": {},
     "output_type": "execute_result"
    }
   ],
   "source": [
    "# A simple program to find the largest subarray\n",
    "# with equal number of 0s and 1s\n",
    "\n",
    "# This function Prints the starting and ending\n",
    "# indexes of the largest subarray with equal\n",
    "# number of 0s and 1s. Also returns the size\n",
    "# of such subarray.\n",
    "def findSubArray(arr, n):\n",
    "\n",
    "\tsum = 0\n",
    "\tmaxsize = -1\n",
    "\n",
    "\t# Pick a starting point as i\n",
    "\n",
    "\tfor i in range(0, n-1):\n",
    "\t\n",
    "\t\tsum = -1 if(arr[i] == 0) else 1\n",
    "\n",
    "\t\t# Consider all subarrays starting from i\n",
    "\n",
    "\t\tfor j in range(i + 1, n):\n",
    "\t\t\n",
    "\t\t\tsum = sum + (-1) if (arr[j] == 0) else sum + 1\n",
    "\n",
    "\t\t\t# If this is a 0 sum subarray, then\n",
    "\t\t\t# compare it with maximum size subarray\n",
    "\t\t\t# calculated so far\n",
    "\n",
    "\t\t\tif (sum == 0 and maxsize < j-i + 1):\n",
    "\t\t\t\t\n",
    "\t\t\t\tmaxsize = j - i + 1\n",
    "\t\t\t\tstartindex = i\n",
    "\t\t\t\n",
    "\t\t\n",
    "\t\n",
    "\tif (maxsize == -1):\n",
    "\t\tprint(\"No such subarray\");\n",
    "\telse:\n",
    "\t\tprint(startindex, \"to\", startindex + maxsize-1);\n",
    "\n",
    "\treturn maxsize\n",
    "\n",
    "# Driver program to test above functions\n",
    "arr = [1, 1, 0, 1]\n",
    "size = len(arr)\n",
    "findSubArray(arr, size)\n",
    "\n",
    "# This code is contributed by Smitha Dinesh Semwal\n"
   ]
  }
 ],
 "metadata": {
  "kernelspec": {
   "display_name": "Python 3",
   "language": "python",
   "name": "python3"
  },
  "language_info": {
   "codemirror_mode": {
    "name": "ipython",
    "version": 3
   },
   "file_extension": ".py",
   "mimetype": "text/x-python",
   "name": "python",
   "nbconvert_exporter": "python",
   "pygments_lexer": "ipython3",
   "version": "3.10.7"
  },
  "orig_nbformat": 4,
  "vscode": {
   "interpreter": {
    "hash": "aef80b6ac783f7042fbfc7f7228212085612e82dbe6ac48db8c348140cb084f4"
   }
  }
 },
 "nbformat": 4,
 "nbformat_minor": 2
}
